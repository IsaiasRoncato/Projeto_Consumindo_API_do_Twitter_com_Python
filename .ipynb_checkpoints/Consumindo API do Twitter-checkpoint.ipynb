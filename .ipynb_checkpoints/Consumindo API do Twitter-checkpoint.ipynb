{
 "cells": [
  {
   "cell_type": "markdown",
   "id": "ced3465a-45cf-473d-8b77-48c3bda17fa9",
   "metadata": {},
   "source": [
    "### Passo 1: Criar uma conta no Twitter Developer e obter credenciais da API\n",
    "1. Acesse Twitter Developer.\n",
    "2. Crie uma conta de desenvolvedor ou faça login se já tiver uma.\n",
    "3. Crie um novo projeto e um aplicativo dentro deste projeto para obter as credenciais da API: API Key, API Secret Key, Access Token, e Access Token Secret."
   ]
  },
  {
   "cell_type": "markdown",
   "id": "09bf9f4b-732d-41aa-80ae-c7394c91b7f2",
   "metadata": {},
   "source": [
    "### Passo 2: Instalar a biblioteca Tweepy\n",
    "Instale a biblioteca Tweepy, que facilita a interação com a API do Twitter, usando pip:\n",
    "\n"
   ]
  },
  {
   "cell_type": "code",
   "execution_count": null,
   "id": "2b052933",
   "metadata": {},
   "outputs": [],
   "source": [
    "!pip install tweepy"
   ]
  },
  {
   "cell_type": "markdown",
   "id": "339c0dd6-6a18-4e6f-9ed1-f2a409ae1cd4",
   "metadata": {},
   "source": [
    "### Passo 3: Configurar o acesso à API\n",
    "Com as credenciais obtidas, configure o acesso à API no seu script Python:"
   ]
  },
  {
   "cell_type": "code",
   "execution_count": null,
   "id": "3663ce5f-e6c6-406e-b0c9-510140f7fd73",
   "metadata": {},
   "outputs": [],
   "source": [
    "import tweepy\n",
    "\n",
    "# Substitua pelos valores das suas credenciais\n",
    "api_key = 'SUA_API_KEY'\n",
    "api_secret_key = 'SUA_API_SECRET_KEY'\n",
    "access_token = 'SEU_ACCESS_TOKEN'\n",
    "access_token_secret = 'SEU_ACCESS_TOKEN_SECRET'\n",
    "\n",
    "# Autenticação com a API do Twitter\n",
    "auth = tweepy.OAuthHandler(api_key, api_secret_key)\n",
    "auth.set_access_token(access_token, access_token_secret)\n",
    "\n",
    "# Criar o objeto API\n",
    "api = tweepy.API(auth)\n",
    "\n",
    "# Verifica se a autenticação foi bem-sucedida\n",
    "try:\n",
    "    api.verify_credentials()\n",
    "    print(\"Autenticação bem-sucedida\")\n",
    "except Exception as e:\n",
    "    print(f\"Erro durante a autenticação: {e}\")\n"
   ]
  },
  {
   "cell_type": "markdown",
   "id": "fb4a52bd-baad-4246-bbc4-7569615f4547",
   "metadata": {},
   "source": [
    "### Passo 4: Consumir a API"
   ]
  },
  {
   "cell_type": "markdown",
   "id": "2414984b-8b4f-4ca4-98d0-dbe00bcf9a0d",
   "metadata": {},
   "source": [
    "#### 1. Buscar tweets por uma palavra-chave"
   ]
  },
  {
   "cell_type": "code",
   "execution_count": null,
   "id": "80d44ab9-37d7-48fc-b11c-d6f6a040c2df",
   "metadata": {},
   "outputs": [],
   "source": [
    "# Busca por tweets que contenham a palavra \"Palavra Chave\"\n",
    "for tweet in tweepy.Cursor(api.search_tweets, q=\"Python\", lang=\"pt\").items(10):\n",
    "    print(f\"{tweet.user.name} disse: {tweet.text}\")"
   ]
  },
  {
   "cell_type": "markdown",
   "id": "0f96fbdd-cfd9-43b1-a922-3b6ca5e082b9",
   "metadata": {},
   "source": [
    "#### 2. Postar um tweet"
   ]
  },
  {
   "cell_type": "code",
   "execution_count": null,
   "id": "97f2dc60-a78c-4aba-8744-1d320531da51",
   "metadata": {},
   "outputs": [],
   "source": [
    "# Posta um tweet na sua timeline\n",
    "api.update_status(\"Olá, Twitter! Estou tweetando usando Tweepy e Python!\")\n"
   ]
  },
  {
   "cell_type": "markdown",
   "id": "e3a8b3a9-c431-4a0d-92d0-0532b7ba2b9c",
   "metadata": {},
   "source": [
    "#### 3. Obter informações de um usuário\n"
   ]
  },
  {
   "cell_type": "code",
   "execution_count": null,
   "id": "2bbd4494-c97c-43aa-b616-e374294fa827",
   "metadata": {},
   "outputs": [],
   "source": [
    "# Obtém informações do usuário\n",
    "user = api.get_user(screen_name='TwitterDev')\n",
    "\n",
    "print(f\"Nome: {user.name}\")\n",
    "print(f\"Descrição: {user.description}\")\n",
    "print(f\"Número de seguidores: {user.followers_count}\")\n"
   ]
  },
  {
   "cell_type": "markdown",
   "id": "7e5d04b7-24f6-4122-baf4-13e08825cdf6",
   "metadata": {},
   "source": [
    "#### 4. Seguir um usuário\n"
   ]
  },
  {
   "cell_type": "code",
   "execution_count": null,
   "id": "b730e754-ca1c-4daf-8a0c-0bfe21febab4",
   "metadata": {},
   "outputs": [],
   "source": [
    "# Segue um usuário\n",
    "api.create_friendship(screen_name='TwitterDev')\n",
    "print(\"Agora você está seguindo TwitterDev\")\n"
   ]
  },
  {
   "cell_type": "markdown",
   "id": "437d06c6-1926-4416-b50a-f8bb7baaad4c",
   "metadata": {},
   "source": [
    "#### 5. Listar os tweets de uma timeline\n"
   ]
  },
  {
   "cell_type": "code",
   "execution_count": null,
   "id": "96c066e8-6f66-43c6-94d5-8520371ea8b3",
   "metadata": {},
   "outputs": [],
   "source": [
    "# Lista os tweets da sua timeline\n",
    "for tweet in tweepy.Cursor(api.home_timeline).items(10):\n",
    "    print(f\"{tweet.user.name} disse: {tweet.text}\")\n"
   ]
  },
  {
   "cell_type": "code",
   "execution_count": null,
   "id": "ed9f5df5-97f1-4964-9cc1-6620054a9e24",
   "metadata": {},
   "outputs": [],
   "source": []
  }
 ],
 "metadata": {
  "kernelspec": {
   "display_name": "Python 3 (ipykernel)",
   "language": "python",
   "name": "python3"
  },
  "language_info": {
   "codemirror_mode": {
    "name": "ipython",
    "version": 3
   },
   "file_extension": ".py",
   "mimetype": "text/x-python",
   "name": "python",
   "nbconvert_exporter": "python",
   "pygments_lexer": "ipython3",
   "version": "3.12.4"
  }
 },
 "nbformat": 4,
 "nbformat_minor": 5
}
